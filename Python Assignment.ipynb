{
 "cells": [
  {
   "cell_type": "code",
   "execution_count": 2,
   "id": "560dcb34",
   "metadata": {},
   "outputs": [
    {
     "name": "stdout",
     "output_type": "stream",
     "text": [
      "The original string is : isha\n",
      "The reversed string(using loops) is : ahsi\n"
     ]
    }
   ],
   "source": [
    "#Write a Python program to reverse a string without using any built-in string reversal functions.\n",
    "def reverse(s):\n",
    "    str = \"\"\n",
    "    for i in s:\n",
    "        str = i + str\n",
    "    return str\n",
    "\n",
    "s = \"isha\"\n",
    "\n",
    "print(\"The original string is : \", end=\"\")\n",
    "print(s)\n",
    "\n",
    "print(\"The reversed string(using loops) is : \", end=\"\")\n",
    "print(reverse(s))\n"
   ]
  },
  {
   "cell_type": "code",
   "execution_count": 4,
   "id": "d19ad432",
   "metadata": {},
   "outputs": [
    {
     "name": "stdout",
     "output_type": "stream",
     "text": [
      "Yes\n"
     ]
    }
   ],
   "source": [
    "# Implement a function to check if a given string is a palindrome.\n",
    "\n",
    "\n",
    "def isPalindrome(s):\n",
    "    return s == s[::-1]\n",
    "s = \"malayalam\"\n",
    "ans = isPalindrome(s)\n",
    "\n",
    "if ans:\n",
    "    print(\"Yes\")\n",
    "else:\n",
    "    print(\"No\")\n"
   ]
  },
  {
   "cell_type": "code",
   "execution_count": 5,
   "id": "21e24471",
   "metadata": {},
   "outputs": [
    {
     "name": "stdout",
     "output_type": "stream",
     "text": [
      "Largest element is: 99\n"
     ]
    }
   ],
   "source": [
    "# Write a program to find the largest element in a given list.\n",
    "\n",
    "list1 = [10, 20, 4, 45, 99]\n",
    "print(\"Largest element is:\", max(list1))\n"
   ]
  },
  {
   "cell_type": "code",
   "execution_count": 6,
   "id": "ab68ea7c",
   "metadata": {},
   "outputs": [
    {
     "name": "stdout",
     "output_type": "stream",
     "text": [
      "8 has occurred 5 times\n"
     ]
    }
   ],
   "source": [
    "\n",
    "# Python code to count the number of occurrences\n",
    "def countX(lst, x):\n",
    "    count = 0\n",
    "    for ele in lst:\n",
    "        if (ele == x):\n",
    "            count = count + 1\n",
    "    return count\n",
    "\n",
    "lst = [8, 6, 8, 10, 8, 20, 10, 8, 8]\n",
    "x = 8\n",
    "print('{} has occurred {} times'.format(x,\n",
    "                                        countX(lst, x)))\n"
   ]
  },
  {
   "cell_type": "code",
   "execution_count": 7,
   "id": "94d24bae",
   "metadata": {},
   "outputs": [
    {
     "name": "stdout",
     "output_type": "stream",
     "text": [
      "Second largest element is: 45\n"
     ]
    }
   ],
   "source": [
    "#Write a Python program to find the second largest number in a list.\n",
    "\n",
    "list1 = [10, 20, 20, 4, 45, 45, 45, 99, 99]\n",
    "list2 = list(set(list1))\n",
    "list2.sort()\n",
    "print(\"Second largest element is:\", list2[-2])\n"
   ]
  },
  {
   "cell_type": "code",
   "execution_count": 1,
   "id": "29d7d676",
   "metadata": {},
   "outputs": [
    {
     "name": "stdout",
     "output_type": "stream",
     "text": [
      "[2, 4, 10, 20, 5]\n"
     ]
    }
   ],
   "source": [
    "#Implement a function to remove duplicate elements from a list.\n",
    "\n",
    "def Remove(duplicate):\n",
    "    final_list = []\n",
    "    for num in duplicate:\n",
    "        if num not in final_list:\n",
    "            final_list.append(num)\n",
    "    return final_list\n",
    "\n",
    "duplicate = [2, 4, 10, 20, 5, 2, 20, 4]\n",
    "print(Remove(duplicate))\n"
   ]
  },
  {
   "cell_type": "code",
   "execution_count": 3,
   "id": "aa42d70d",
   "metadata": {},
   "outputs": [
    {
     "name": "stdout",
     "output_type": "stream",
     "text": [
      "Factorial of 5 is 120\n"
     ]
    }
   ],
   "source": [
    "#Write a program to calculate the factorial of a given number.\n",
    "\n",
    "def factorial(n):\n",
    "\n",
    "    return 1 if (n==1 or n==0) else n * factorial(n - 1)\n",
    "num = 5\n",
    "print(\"Factorial of\",num,\"is\",factorial(num))\n"
   ]
  },
  {
   "cell_type": "code",
   "execution_count": 4,
   "id": "e117ce8b",
   "metadata": {},
   "outputs": [
    {
     "name": "stdout",
     "output_type": "stream",
     "text": [
      "11 is a prime number\n"
     ]
    }
   ],
   "source": [
    "#Implement a function to check if a given number is prime.\n",
    "num = 11\n",
    "\n",
    "if num > 1:\n",
    "    for i in range(2, int(num/2)+1):\n",
    "        if (num % i) == 0:\n",
    "            print(num, \"is not a prime number\")\n",
    "            break\n",
    "    else:\n",
    "        print(num, \"is a prime number\")\n",
    "else:\n",
    "    print(num, \"is not a prime number\")\n"
   ]
  },
  {
   "cell_type": "code",
   "execution_count": 5,
   "id": "b3cdeae2",
   "metadata": {},
   "outputs": [
    {
     "name": "stdout",
     "output_type": "stream",
     "text": [
      "None\n",
      "[1, 2, 3, 4]\n",
      "[1, 2, 3, 4]\n",
      "[1, 2, 3, 4]\n"
     ]
    }
   ],
   "source": [
    "#Write a Python program to sort a list of integers in ascending order.\n",
    "\n",
    "numbers = [1, 3, 4, 2]\n",
    "\n",
    "print(numbers.sort()) \n",
    "print(numbers)\n",
    "print(sorted(numbers)) \n",
    "print(numbers)\n",
    "\n"
   ]
  },
  {
   "cell_type": "code",
   "execution_count": 6,
   "id": "14fd6cdb",
   "metadata": {},
   "outputs": [
    {
     "name": "stdout",
     "output_type": "stream",
     "text": [
      "The given list is:\n",
      "[1, 2, 3, 4, 5, 6, 7, 8, 9]\n",
      "Sum of all the elements in the list is: 45\n"
     ]
    }
   ],
   "source": [
    "#Implement a function to find the sum of all numbers in a list.\n",
    "myList = [1, 2, 3, 4, 5, 6, 7, 8, 9]\n",
    "print(\"The given list is:\")\n",
    "print(myList)\n",
    "list_length=len(myList)\n",
    "sumOfElements=0\n",
    "for i in range(list_length):\n",
    "    sumOfElements=sumOfElements+myList[i]\n",
    "\n",
    "print(\"Sum of all the elements in the list is:\", sumOfElements)"
   ]
  },
  {
   "cell_type": "code",
   "execution_count": 7,
   "id": "9691c2e7",
   "metadata": {},
   "outputs": [
    {
     "name": "stdout",
     "output_type": "stream",
     "text": [
      "[3, 5]\n"
     ]
    }
   ],
   "source": [
    "#Write a program to find the common elements between two lists.\n",
    "a=[2,3,4,5]\n",
    "b=[3,5,7,9]\n",
    "def common(a,b): \n",
    "    c = [value for value in a if value in b] \n",
    "    return c\n",
    "d=common(a,b)\n",
    "print(d)"
   ]
  },
  {
   "cell_type": "code",
   "execution_count": 8,
   "id": "ddaf603e",
   "metadata": {},
   "outputs": [
    {
     "name": "stdout",
     "output_type": "stream",
     "text": [
      "race and care are anagram.\n"
     ]
    }
   ],
   "source": [
    "#Implement a function to check if a given string is an anagram of another string.\n",
    "str1 = \"Race\"\n",
    "str2 = \"Care\"\n",
    "str1 = str1.lower()\n",
    "str2 = str2.lower()\n",
    "\n",
    "if(len(str1) == len(str2)):\n",
    "    sorted_str1 = sorted(str1)\n",
    "    sorted_str2 = sorted(str2)\n",
    "\n",
    "    if(sorted_str1 == sorted_str2):\n",
    "        print(str1 + \" and \" + str2 + \" are anagram.\")\n",
    "    else:\n",
    "        print(str1 + \" and \" + str2 + \" are not anagram.\")\n",
    "\n",
    "else:\n",
    "    print(str1 + \" and \" + str2 + \" are not anagram.\")"
   ]
  },
  {
   "cell_type": "code",
   "execution_count": 13,
   "id": "f98911bb",
   "metadata": {},
   "outputs": [
    {
     "name": "stdout",
     "output_type": "stream",
     "text": [
      "['pro', 'por', 'rpo', 'rop', 'opr', 'orp']\n"
     ]
    }
   ],
   "source": [
    "#Write a Python program to generate all permutadef get_permutation(string, i=0):\n",
    "from itertools import permutations\n",
    "\n",
    "words = [''.join(p) for p in permutations('pro')]\n",
    "\n",
    "print(words)"
   ]
  },
  {
   "cell_type": "code",
   "execution_count": 14,
   "id": "8706051f",
   "metadata": {},
   "outputs": [
    {
     "name": "stdout",
     "output_type": "stream",
     "text": [
      "How many terms? 5\n",
      "Fibonacci sequence:\n",
      "0\n",
      "1\n",
      "1\n",
      "2\n",
      "3\n"
     ]
    }
   ],
   "source": [
    "#Implement a function to calculate the Fibonacci sequence up to a given number of terms.\n",
    "\n",
    "nterms = int(input(\"How many terms? \"))\n",
    "n1, n2 = 0, 1\n",
    "count = 0\n",
    "if nterms <= 0:\n",
    "   print(\"Please enter a positive integer\")\n",
    "elif nterms == 1:\n",
    "   print(\"Fibonacci sequence upto\",nterms,\":\")\n",
    "   print(n1)\n",
    "else:\n",
    "   print(\"Fibonacci sequence:\")\n",
    "   while count < nterms:\n",
    "       print(n1)\n",
    "       nth = n1 + n2\n",
    "       \n",
    "       n1 = n2\n",
    "       n2 = nth\n",
    "       count += 1"
   ]
  },
  {
   "cell_type": "code",
   "execution_count": 15,
   "id": "af5c81d5",
   "metadata": {},
   "outputs": [
    {
     "name": "stdout",
     "output_type": "stream",
     "text": [
      "The original list : [4, 5, 8, 9, 10, 17]\n",
      "Median of list is : 8.5\n"
     ]
    }
   ],
   "source": [
    "#Write a program to find the median of a list of numbers.\n",
    "test_list = [4, 5, 8, 9, 10, 17]\n",
    "print(\"The original list : \" + str(test_list))\n",
    "test_list.sort()\n",
    "mid = len(test_list) // 2\n",
    "res = (test_list[mid] + test_list[~mid]) / 2\n",
    "\n",
    "print(\"Median of list is : \" + str(res))\n"
   ]
  },
  {
   "cell_type": "code",
   "execution_count": 16,
   "id": "a65a7854",
   "metadata": {},
   "outputs": [
    {
     "name": "stdout",
     "output_type": "stream",
     "text": [
      "Original list : [1, 4, 5, 8, 10]\n",
      "Yes, List is sorted.\n"
     ]
    }
   ],
   "source": [
    "#Implement a function to check if a given list is sorted in non-decreasing order.\n",
    "test_list = [1, 4, 5, 8, 10]\n",
    "print (\"Original list : \" + str(test_list))\n",
    "flag = 0\n",
    "i = 1\n",
    "while i < len(test_list):\n",
    "    if(test_list[i] < test_list[i - 1]):\n",
    "        flag = 1\n",
    "    i += 1\n",
    "\n",
    "if (not flag) :\n",
    "    print (\"Yes, List is sorted.\")\n",
    "else :\n",
    "    print (\"No, List is not sorted.\")\n"
   ]
  },
  {
   "cell_type": "code",
   "execution_count": 17,
   "id": "35dbc56c",
   "metadata": {},
   "outputs": [
    {
     "name": "stdout",
     "output_type": "stream",
     "text": [
      "[9, 11, 26, 28]\n"
     ]
    }
   ],
   "source": [
    "#Write a Python program to find the intersection of two lists.\n",
    "\n",
    "def intersection(lst1, lst2):\n",
    "    lst3 = [value for value in lst1 if value in lst2]\n",
    "    return lst3\n",
    "\n",
    "lst1 = [4, 9, 1, 17, 11, 26, 28, 54, 69]\n",
    "lst2 = [9, 9, 74, 21, 45, 11, 63, 28, 26]\n",
    "print(intersection(lst1, lst2))\n"
   ]
  },
  {
   "cell_type": "code",
   "execution_count": 19,
   "id": "b5c3bab9",
   "metadata": {},
   "outputs": [
    {
     "name": "stdout",
     "output_type": "stream",
     "text": [
      "sh Vnd Ptl\n"
     ]
    }
   ],
   "source": [
    "#Write a program to remove all vowels from a given string.\n",
    "\n",
    "def rem_vowel(string):\n",
    "    vowels = ['a','e','i','o','u']\n",
    "    result = [letter for letter in string if letter.lower() not in vowels]\n",
    "    result = ''.join(result)\n",
    "    print(result)\n",
    "\n",
    "\n",
    "string = \"Isha Vinod Patil\"\n",
    "rem_vowel(string)\n",
    "\n"
   ]
  },
  {
   "cell_type": "code",
   "execution_count": 20,
   "id": "2ae47165",
   "metadata": {},
   "outputs": [
    {
     "name": "stdout",
     "output_type": "stream",
     "text": [
      "much very program this like i\n"
     ]
    }
   ],
   "source": [
    "#Implement a function to reverse the order of words in a given sentence\n",
    "\n",
    "def reverse_word(s, start, end):\n",
    "    while start < end:\n",
    "        s[start], s[end] = s[end], s[start]\n",
    "        start = start + 1\n",
    "        end -= 1\n",
    "s = \"i like this program very much\"\n",
    "\n",
    "s = list(s)\n",
    "start = 0\n",
    "while True:\n",
    "\n",
    "    try:\n",
    "        end = s.index(' ', start)\n",
    "        reverse_word(s, start, end - 1)\n",
    "        start = end + 1\n",
    "\n",
    "    except ValueError:\n",
    "\n",
    "\n",
    "        reverse_word(s, start, len(s) - 1)\n",
    "        break\n",
    "s.reverse()\n",
    "s = \"\".join(s)\n",
    "\n",
    "print(s)\n",
    "\n"
   ]
  },
  {
   "cell_type": "code",
   "execution_count": 21,
   "id": "49d477f7",
   "metadata": {},
   "outputs": [
    {
     "name": "stdout",
     "output_type": "stream",
     "text": [
      "race and care are anagram.\n"
     ]
    }
   ],
   "source": [
    "#Write a Python program to check if two strings are anagrams of each other.\n",
    "\n",
    "str1 = \"Race\"\n",
    "str2 = \"Care\"\n",
    "str1 = str1.lower()\n",
    "str2 = str2.lower()\n",
    "\n",
    "if(len(str1) == len(str2)):\n",
    "    sorted_str1 = sorted(str1)\n",
    "    sorted_str2 = sorted(str2)\n",
    "\n",
    "    if(sorted_str1 == sorted_str2):\n",
    "        print(str1 + \" and \" + str2 + \" are anagram.\")\n",
    "    else:\n",
    "        print(str1 + \" and \" + str2 + \" are not anagram.\")\n",
    "\n",
    "else:\n",
    "    print(str1 + \" and \" + str2 + \" are not anagram.\")"
   ]
  },
  {
   "cell_type": "code",
   "execution_count": 23,
   "id": "c2766a27",
   "metadata": {},
   "outputs": [
    {
     "name": "stdout",
     "output_type": "stream",
     "text": [
      "First non-repeating character is s\n"
     ]
    }
   ],
   "source": [
    "#Implement a function to find the first non-repeating character in a string.\n",
    "\n",
    "string = \"ishapatil\"\n",
    "index = -1\n",
    "fnc = \"\"\n",
    "\n",
    "if len(string) == 0 :\n",
    "    print(\"EMTPY STRING\");\n",
    "\n",
    "for i in string:\n",
    "    if string.count(i) == 1:\n",
    "        fnc += i\n",
    "        break\n",
    "    else:\n",
    "        index += 1\n",
    "if index == len(string)-1 :\n",
    "    print(\"All characters are repeating \")\n",
    "else:\n",
    "    print(\"First non-repeating character is\", fnc)\n",
    "\n"
   ]
  },
  {
   "cell_type": "code",
   "execution_count": 28,
   "id": "c09af0a8",
   "metadata": {},
   "outputs": [
    {
     "name": "stdout",
     "output_type": "stream",
     "text": [
      "3\n",
      "3\n",
      "5\n",
      "7\n"
     ]
    }
   ],
   "source": [
    "#Write a program to find the prime factors of a given number.\n",
    "\n",
    "import math\n",
    "def primeFactors(n):\n",
    "\n",
    "    while n % 2 == 0:\n",
    "        print (2)\n",
    "        n = n / 2\n",
    "\n",
    "    for i in range(3, int(math.sqrt(n))+1, 2):\n",
    "\n",
    "        while n % i == 0:\n",
    "            print (i)\n",
    "            n = n / i\n",
    "\n",
    "    if n > 2:\n",
    "        print (n)\n",
    "\n",
    "n = 315\n",
    "primeFactors(n)\n",
    "\n",
    "\n",
    "\n",
    "         "
   ]
  },
  {
   "cell_type": "code",
   "execution_count": 30,
   "id": "955bf1bd",
   "metadata": {},
   "outputs": [
    {
     "name": "stdout",
     "output_type": "stream",
     "text": [
      "No\n"
     ]
    }
   ],
   "source": [
    "# Implement a function to check if a given number is a power of two.\n",
    "import math\n",
    "def Log2(x):\n",
    "    if x == 0:\n",
    "        return false\n",
    "\n",
    "    return (math.log10(x) /\n",
    "            math.log10(2))\n",
    "\n",
    "def isPowerOfTwo(n):\n",
    "    return (math.ceil(Log2(n)) ==\n",
    "            math.floor(Log2(n)))\n",
    "\n",
    "\n",
    "\n",
    "if __name__ == \"__main__\":\n",
    "    if(isPowerOfTwo(31)):\n",
    "        print(\"Yes\")\n",
    "    else:\n",
    "        print(\"No\")\n",
    "\n",
    "    \n",
    "\n"
   ]
  },
  {
   "cell_type": "code",
   "execution_count": 31,
   "id": "1c8af726",
   "metadata": {},
   "outputs": [
    {
     "name": "stdout",
     "output_type": "stream",
     "text": [
      "The original list 1 is : [1, 5, 6, 9, 11]\n",
      "The original list 2 is : [3, 4, 7, 8, 10]\n",
      "The combined sorted list is : [1, 3, 4, 5, 6, 7, 8, 9, 10, 11]\n"
     ]
    }
   ],
   "source": [
    "# Write a Python program to merge two sorted lists into a single sorted list.\n",
    "\n",
    "test_list1 = [1, 5, 6, 9, 11]\n",
    "test_list2 = [3, 4, 7, 8, 10]\n",
    "print(\"The original list 1 is : \" + str(test_list1))\n",
    "print(\"The original list 2 is : \" + str(test_list2))\n",
    "size_1 = len(test_list1)\n",
    "size_2 = len(test_list2)\n",
    "\n",
    "res = []\n",
    "i, j = 0, 0\n",
    "\n",
    "while i < size_1 and j < size_2:\n",
    "    if test_list1[i] < test_list2[j]:\n",
    "        res.append(test_list1[i])\n",
    "        i += 1\n",
    "\n",
    "    else:\n",
    "        res.append(test_list2[j])\n",
    "        j += 1\n",
    "\n",
    "res = res + test_list1[i:] + test_list2[j:]\n",
    "\n",
    "\n",
    "print(\"The combined sorted list is : \" + str(res))\n"
   ]
  },
  {
   "cell_type": "code",
   "execution_count": 33,
   "id": "cc0c9cf9",
   "metadata": {},
   "outputs": [
    {
     "name": "stdout",
     "output_type": "stream",
     "text": [
      "Mode is are: 5\n"
     ]
    }
   ],
   "source": [
    "#Implement a function to find the mode of a list of numbers.\n",
    "\n",
    "\n",
    "from collections import Counter\n",
    "n_num = [1, 2, 3, 4, 5, 5]\n",
    "n = len(n_num)\n",
    "\n",
    "data = Counter(n_num)\n",
    "get_mode = dict(data)\n",
    "mode = [k for k, v in get_mode.items() if v == max(list(data.values()))]\n",
    "\n",
    "if len(mode) == n:\n",
    "    get_mode = \"No mode found\"\n",
    "else:\n",
    "    get_mode = \"Mode is are: \" + ', '.join(map(str, mode))\n",
    "\n",
    "print(get_mode)\n"
   ]
  },
  {
   "cell_type": "code",
   "execution_count": 35,
   "id": "394a78d0",
   "metadata": {},
   "outputs": [
    {
     "name": "stdout",
     "output_type": "stream",
     "text": [
      "The gcd of 60 and 48 is : 12\n"
     ]
    }
   ],
   "source": [
    "#Write a program to find the greatest common divisor (GCD) of two numbers.\n",
    "\n",
    "import math\n",
    "\n",
    "\n",
    "print(\"The gcd of 60 and 48 is : \", end=\"\")\n",
    "print(math.gcd(60, 48))\n"
   ]
  },
  {
   "cell_type": "code",
   "execution_count": 36,
   "id": "424d9dd0",
   "metadata": {},
   "outputs": [
    {
     "name": "stdout",
     "output_type": "stream",
     "text": [
      "5.0\n"
     ]
    }
   ],
   "source": [
    "#Implement a function to calculate the square root of a given number.\n",
    "from math import sqrt\n",
    "\n",
    "number = 25\n",
    "square_root = sqrt(number)\n",
    "\n",
    "print(square_root)"
   ]
  },
  {
   "cell_type": "code",
   "execution_count": 37,
   "id": "31f2fea7",
   "metadata": {},
   "outputs": [
    {
     "name": "stdout",
     "output_type": "stream",
     "text": [
      "True\n"
     ]
    }
   ],
   "source": [
    "#Write a Python program to check if a given string is a valid palindrome ignoring non-alphanumeric characters.\n",
    "a_string = 'Was it a car or a cat I saw'\n",
    "\n",
    "def palindrome(a_string):\n",
    "    a_string = a_string.lower().replace(' ', '')\n",
    "    return a_string == a_string[::-1]\n",
    "\n",
    "print(palindrome(a_string))"
   ]
  },
  {
   "cell_type": "code",
   "execution_count": 39,
   "id": "ea8a863a",
   "metadata": {},
   "outputs": [
    {
     "name": "stdout",
     "output_type": "stream",
     "text": [
      "1\n"
     ]
    }
   ],
   "source": [
    "#Implement a function to find the minimum element in a rotated sorted list.\n",
    "\n",
    "def findMin(arr, N):\n",
    "    min_ele = arr[0];\n",
    "    for i in range(N) :\n",
    "        if arr[i] < min_ele :\n",
    "            min_ele = arr[i]\n",
    "\n",
    "    return min_ele;\n",
    "arr = [5, 6, 1, 2, 3, 4]\n",
    "N = len(arr)\n",
    "\n",
    "print(findMin(arr,N))\n",
    "\n",
    "\n"
   ]
  },
  {
   "cell_type": "code",
   "execution_count": 40,
   "id": "6e7a2824",
   "metadata": {},
   "outputs": [
    {
     "name": "stdout",
     "output_type": "stream",
     "text": [
      "Sum of even numbers at even indices is 30\n"
     ]
    }
   ],
   "source": [
    "#Write a program to find the sum of all even numbers in a list.\n",
    "\n",
    "def sum_even_and_even_index(arr):\n",
    "    mp = {} \n",
    "    sum = 0\n",
    "    for i in range(0, len(arr), 2):\n",
    "        if arr[i] % 2 == 0:\n",
    "            mp[i] = arr[i] \n",
    "    for key, value in mp.items():\n",
    "        sum += value \n",
    "    return sum\n",
    "\n",
    "\n",
    "arr = [5, 6, 12, 1, 18, 8]\n",
    "print(\"Sum of even numbers at even indices is\", sum_even_and_even_index(arr))\n"
   ]
  },
  {
   "cell_type": "code",
   "execution_count": 41,
   "id": "07065575",
   "metadata": {},
   "outputs": [
    {
     "name": "stdout",
     "output_type": "stream",
     "text": [
      "25\n"
     ]
    }
   ],
   "source": [
    "# Implement a function to calculate the power of a number using recursion.\n",
    "\n",
    "def power(N, P):\n",
    "\n",
    "    if P == 0:\n",
    "        return 1\n",
    "    return (N*power(N, P-1))\n",
    "if __name__ == '__main__':\n",
    "    N = 5\n",
    "    P = 2\n",
    "\n",
    "    print(power(N, P))\n"
   ]
  },
  {
   "cell_type": "code",
   "execution_count": 42,
   "id": "71bd7d52",
   "metadata": {},
   "outputs": [
    {
     "name": "stdout",
     "output_type": "stream",
     "text": [
      "[1, 2, 3, 4, 5, 6]\n"
     ]
    }
   ],
   "source": [
    "#Write a Python program to remove duplicates from a list while preserving the order.\n",
    "original_list = [1, 2, 3, 4, 2, 5, 3, 6]\n",
    "\n",
    "no_duplicates_set = set(original_list)\n",
    "no_duplicates_list = list(no_duplicates_set)\n",
    "\n",
    "print(no_duplicates_list)\n"
   ]
  },
  {
   "cell_type": "code",
   "execution_count": 44,
   "id": "30e798c2",
   "metadata": {},
   "outputs": [
    {
     "name": "stdout",
     "output_type": "stream",
     "text": [
      "The longest Common Prefix is : gee\n"
     ]
    }
   ],
   "source": [
    "#Implement a function to find the longest common prefix among a list of strings.\n",
    "\n",
    "def longestCommonPrefix( a):\n",
    "    size = len(a)\n",
    "    if (size == 0):\n",
    "        return \"\"\n",
    "\n",
    "    if (size == 1):\n",
    "        return a[0]\n",
    "\n",
    "    a.sort()\n",
    "\n",
    "    end = min(len(a[0]), len(a[size - 1]))\n",
    "\n",
    "    i = 0\n",
    "    while (i < end and\n",
    "        a[0][i] == a[size - 1][i]):\n",
    "        i += 1\n",
    "\n",
    "    pre = a[0][0: i]\n",
    "    return pre\n",
    "if __name__ == \"__main__\":\n",
    "\n",
    "    input = [\"geeksforgeeks\", \"geeks\",\"geek\", \"geezer\"]\n",
    "    print(\"The longest Common Prefix is :\" ,\n",
    "                longestCommonPrefix(input))\n",
    "\n",
    "\n"
   ]
  },
  {
   "cell_type": "code",
   "execution_count": 45,
   "id": "5afd3324",
   "metadata": {},
   "outputs": [
    {
     "name": "stdout",
     "output_type": "stream",
     "text": [
      "No\n"
     ]
    }
   ],
   "source": [
    "#Write a program to check if a given number is a perfect square.\n",
    "\n",
    "import math\n",
    "def isPerfectSquare(x):\n",
    "    if(x >= 0):\n",
    "        sr = int(math.sqrt(x))\n",
    "        return ((sr*sr) == x)\n",
    "    return false\n",
    "\n",
    "\n",
    "x = 2502\n",
    "if (isPerfectSquare(x)):\n",
    "    print(\"Yes\")\n",
    "else:\n",
    "    print(\"No\")\n",
    "\n",
    "\n"
   ]
  },
  {
   "cell_type": "code",
   "execution_count": 46,
   "id": "d268e6e3",
   "metadata": {},
   "outputs": [
    {
     "name": "stdout",
     "output_type": "stream",
     "text": [
      "6\n",
      "24\n"
     ]
    }
   ],
   "source": [
    "# Implement a function to calculate the product of all elements in a list.\n",
    "\n",
    "def multiplyList(myList):\n",
    "\n",
    "    result = 1\n",
    "    for x in myList:\n",
    "        result = result * x\n",
    "    return result\n",
    "\n",
    "list1 = [1, 2, 3]\n",
    "list2 = [3, 2, 4]\n",
    "print(multiplyList(list1))\n",
    "print(multiplyList(list2))\n"
   ]
  },
  {
   "cell_type": "code",
   "execution_count": 47,
   "id": "7816c142",
   "metadata": {},
   "outputs": [
    {
     "name": "stdout",
     "output_type": "stream",
     "text": [
      "code practice quiz geeks\n"
     ]
    }
   ],
   "source": [
    "#Write a Python program to reverse the order of words in a sentence while preserving the word order.\n",
    "\n",
    "string = \"geeks quiz practice code\"\n",
    "\n",
    "s = string.split()[::-1]\n",
    "l = []\n",
    "for i in s:\n",
    "\n",
    "    l.append(i)\n",
    "\n",
    "print(\" \".join(l))\n"
   ]
  },
  {
   "cell_type": "code",
   "execution_count": 48,
   "id": "91366907",
   "metadata": {},
   "outputs": [
    {
     "name": "stdout",
     "output_type": "stream",
     "text": [
      "4\n"
     ]
    }
   ],
   "source": [
    "# Implement a function to find the missing number in a given list of consecutive numbers.\n",
    "\n",
    "def findMissing(arr, N):\n",
    "\n",
    "\n",
    "    temp = [0] * (N+1)\n",
    "\n",
    "    for i in range(0, N):\n",
    "        temp[arr[i] - 1] = 1\n",
    "\n",
    "    for i in range(0, N+1):\n",
    "        if(temp[i] == 0):\n",
    "            ans = i + 1\n",
    "\n",
    "    print(ans)\n",
    "if __name__ == '__main__':\n",
    "    arr = [1, 2, 3, 5]\n",
    "    N = len(arr)\n",
    "    findMissing(arr, N)\n",
    "\n"
   ]
  },
  {
   "cell_type": "code",
   "execution_count": 49,
   "id": "049ebffb",
   "metadata": {},
   "outputs": [
    {
     "name": "stdout",
     "output_type": "stream",
     "text": [
      "21\n"
     ]
    }
   ],
   "source": [
    "#Write a program to find the sum of digits of a given number.\n",
    "\n",
    "def getSum(n):\n",
    "\n",
    "    sum = 0\n",
    "    while (n != 0):\n",
    "\n",
    "        sum = sum + int(n % 10)\n",
    "        n = int(n/10)\n",
    "\n",
    "    return sum\n",
    "if __name__ == \"__main__\":\n",
    "    n = 687\n",
    "    print(getSum(n))\n"
   ]
  },
  {
   "cell_type": "code",
   "execution_count": 50,
   "id": "4796d75b",
   "metadata": {},
   "outputs": [
    {
     "name": "stdout",
     "output_type": "stream",
     "text": [
      "Yes\n"
     ]
    }
   ],
   "source": [
    "#Implement a function to check if a given string is a valid palindrome considering case sensitivity.\n",
    "\n",
    "def isPalindrome(s):\n",
    "    return s == s[::-1]\n",
    "s = \"malayalam\"\n",
    "ans = isPalindrome(s)\n",
    "\n",
    "if ans:\n",
    "    print(\"Yes\")\n",
    "else:\n",
    "    print(\"No\")\n"
   ]
  },
  {
   "cell_type": "code",
   "execution_count": 51,
   "id": "33f70112",
   "metadata": {},
   "outputs": [
    {
     "name": "stdout",
     "output_type": "stream",
     "text": [
      "1\n"
     ]
    }
   ],
   "source": [
    "#Write a Python program to find the smallest missing positive integer in a list.\n",
    "\n",
    "def solution(A): \n",
    "    m = max(A) \n",
    "    if m < 1:\n",
    "\n",
    "        return 1\n",
    "    if len(A) == 1:\n",
    "\n",
    "        return 2 if A[0] == 1 else 1\n",
    "    l = [0] * m\n",
    "    for i in range(len(A)):\n",
    "        if A[i] > 0:\n",
    "            if l[A[i] - 1] != 1:\n",
    "\n",
    "                l[A[i] - 1] = 1\n",
    "    for i in range(len(l)):\n",
    "        if l[i] == 0:\n",
    "            return i + 1\n",
    "\n",
    "    return i + 2\n",
    "\n",
    "if __name__ == '__main__':\n",
    "    arr = [0, 10, 2, -10, -20]\n",
    "    print(solution(arr))\n"
   ]
  },
  {
   "cell_type": "code",
   "execution_count": 52,
   "id": "3435f29b",
   "metadata": {},
   "outputs": [
    {
     "name": "stdout",
     "output_type": "stream",
     "text": [
      "Longest palindrome substring is: geeksskeeg\n",
      "Length is: 10\n"
     ]
    }
   ],
   "source": [
    "#Implement a function to find the longest palindrome substring in a given string.\n",
    "\n",
    "def printSubStr(str, low, high):\n",
    "    for i in range(low, high + 1):\n",
    "        print(str[i], end=\"\")\n",
    "def longestPalSubstr(str):\n",
    "    n = len(str)\n",
    "    maxLength = 1\n",
    "    start = 0\n",
    "    for i in range(n):\n",
    "        for j in range(i, n):\n",
    "            flag = 1\n",
    "            for k in range(0, ((j - i) // 2) + 1):\n",
    "                if (str[i + k] != str[j - k]):\n",
    "                    flag = 0\n",
    "            if (flag != 0 and (j - i + 1) > maxLength):\n",
    "                start = i\n",
    "                maxLength = j - i + 1\n",
    "\n",
    "    print(\"Longest palindrome substring is: \", end=\"\")\n",
    "    printSubStr(str, start, start + maxLength - 1)\n",
    "    return maxLength\n",
    "\n",
    "if __name__ == '__main__':\n",
    "    str = \"forgeeksskeegfor\"\n",
    "    print(\"\\nLength is:\", longestPalSubstr(str))\n",
    "\n",
    "\n"
   ]
  },
  {
   "cell_type": "code",
   "execution_count": 55,
   "id": "243ac2dd",
   "metadata": {},
   "outputs": [
    {
     "name": "stdout",
     "output_type": "stream",
     "text": [
      "8 has occurred 5 times\n"
     ]
    }
   ],
   "source": [
    "# Write a program to find the number of occurrences of a given element in a list.\n",
    "\n",
    "def countX(lst, x):\n",
    "    count = 0\n",
    "    for ele in lst:\n",
    "        if (ele == x):\n",
    "            count = count + 1\n",
    "    return count\n",
    "lst = [8, 6, 8, 10, 8, 20, 10, 8, 8]\n",
    "x = 8\n",
    "print('{} has occurred {} times'.format(x,\n",
    "                                        countX(lst, x)))\n"
   ]
  },
  {
   "cell_type": "code",
   "execution_count": null,
   "id": "b1d55ad7",
   "metadata": {},
   "outputs": [],
   "source": [
    "\n"
   ]
  }
 ],
 "metadata": {
  "kernelspec": {
   "display_name": "Python 3 (ipykernel)",
   "language": "python",
   "name": "python3"
  },
  "language_info": {
   "codemirror_mode": {
    "name": "ipython",
    "version": 3
   },
   "file_extension": ".py",
   "mimetype": "text/x-python",
   "name": "python",
   "nbconvert_exporter": "python",
   "pygments_lexer": "ipython3",
   "version": "3.9.12"
  }
 },
 "nbformat": 4,
 "nbformat_minor": 5
}
