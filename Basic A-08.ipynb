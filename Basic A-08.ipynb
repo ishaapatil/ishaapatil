{
 "cells": [
  {
   "cell_type": "raw",
   "id": "269093d0",
   "metadata": {},
   "source": [
    "Ans:01\n",
    "     PyInputPlus is not a part of the Python Standard Library, we must install it separately using Pip."
   ]
  },
  {
   "cell_type": "raw",
   "id": "10d32158",
   "metadata": {},
   "source": [
    "Ans:02\n",
    "     pypi is alias of PyInputPlus.\n",
    "The as pyip code in the import statement saves us from typing pyinputplus each time we want to call a PyInputPlus function. Instead we can use the shorter pyip name\n"
   ]
  },
  {
   "cell_type": "raw",
   "id": "dd97d6d6",
   "metadata": {},
   "source": [
    "Ans:03\n",
    "inputInt() - Accepts an integer value. This also takes additional parameters ‘min’, ‘max’, ‘greaterThan’ and ‘lessThan’  for bounds. Returns an int.\n",
    "inputFloat() - Accepts a floating-point numeric value. Also takes additional ‘min’, ‘max’, ‘greaterThan’ and ‘lessThan’  parameters. Returns a float."
   ]
  },
  {
   "cell_type": "raw",
   "id": "0c644b82",
   "metadata": {},
   "source": [
    "Ans :04\n",
    "By using inputInt() function.\n"
   ]
  },
  {
   "cell_type": "raw",
   "id": "4e709f47",
   "metadata": {},
   "source": [
    "Ans :05\n",
    "we can also use regular expressions to specify whether an input is allowed or not. The allowRegexes and blockRegexes \n",
    "keyword arguments take a list of regular expression strings to determine what the PyInputPlus function will accept or \n",
    "reject as valid input.\n"
   ]
  },
  {
   "cell_type": "raw",
   "id": "dbc8a5ea",
   "metadata": {},
   "source": [
    "Ans:06\n",
    "it will throw RetryLimitException exception."
   ]
  },
  {
   "cell_type": "raw",
   "id": "5418dd60",
   "metadata": {},
   "source": [
    "Ans:07\n",
    "    When you use limit keyword arguments and also pass a default keyword argument, the function returns the default value \n",
    "    instead of raising an exception"
   ]
  }
 ],
 "metadata": {
  "kernelspec": {
   "display_name": "Python 3 (ipykernel)",
   "language": "python",
   "name": "python3"
  },
  "language_info": {
   "codemirror_mode": {
    "name": "ipython",
    "version": 3
   },
   "file_extension": ".py",
   "mimetype": "text/x-python",
   "name": "python",
   "nbconvert_exporter": "python",
   "pygments_lexer": "ipython3",
   "version": "3.9.12"
  }
 },
 "nbformat": 4,
 "nbformat_minor": 5
}
