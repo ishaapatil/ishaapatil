{
 "cells": [
  {
   "cell_type": "raw",
   "id": "b575a29e",
   "metadata": {},
   "source": [
    "Ans:01\n",
    "Two curly brackets: {}"
   ]
  },
  {
   "cell_type": "raw",
   "id": "c41de229",
   "metadata": {},
   "source": [
    "Ans:02\n",
    "{'foo': 42}"
   ]
  },
  {
   "cell_type": "raw",
   "id": "c876ebdf",
   "metadata": {},
   "source": [
    "Ans:03\n",
    "The items stored in a dictionary are unordered, while the items in a list are ordered."
   ]
  },
  {
   "cell_type": "raw",
   "id": "f50559e7",
   "metadata": {},
   "source": [
    "Ans:04\n",
    "You get a KeyError error."
   ]
  },
  {
   "cell_type": "raw",
   "id": "46f7d073",
   "metadata": {},
   "source": [
    "Ans:05\n",
    "There is no difference. The in operator checks whether a value exists as a key in the dictionary.\n"
   ]
  },
  {
   "cell_type": "raw",
   "id": "67c9a1c5",
   "metadata": {},
   "source": [
    "Ans:06\n",
    "cat' in spam checks whether there is a 'cat' key in the dictionary, while 'cat' in spam.values() checks whether there is a value 'cat' for one of the keys in spam."
   ]
  },
  {
   "cell_type": "raw",
   "id": "fc2e13f3",
   "metadata": {},
   "source": [
    "Ans:07\n",
    "spam.setdefault('color', 'black')"
   ]
  },
  {
   "cell_type": "raw",
   "id": "0c0949e5",
   "metadata": {},
   "source": [
    "Ans:08\n",
    "pprint.pprint()"
   ]
  }
 ],
 "metadata": {
  "kernelspec": {
   "display_name": "Python 3 (ipykernel)",
   "language": "python",
   "name": "python3"
  },
  "language_info": {
   "codemirror_mode": {
    "name": "ipython",
    "version": 3
   },
   "file_extension": ".py",
   "mimetype": "text/x-python",
   "name": "python",
   "nbconvert_exporter": "python",
   "pygments_lexer": "ipython3",
   "version": "3.9.12"
  }
 },
 "nbformat": 4,
 "nbformat_minor": 5
}
