{
 "cells": [
  {
   "cell_type": "raw",
   "id": "34982133",
   "metadata": {},
   "source": [
    "1.   How do you distinguish between shutil.copy() and shutil.copytree()?\n",
    "Ans- shutil.copy() method in Python is used to copy the content of source file to destination file or directory.\n",
    "     shutil.copytree() method recursively copies an entire directory tree rooted at source (src) to the destination directory.      The destination directory, named by (dst) must not already exist. It will be created during copying. Permissions and times      of directories are copied with copystat() and individual files are copied using shutil.copy2().\n",
    "     \n"
   ]
  },
  {
   "cell_type": "raw",
   "id": "ffbe0ba5",
   "metadata": {},
   "source": [
    "2.  What function is used to rename files?\n",
    "Ans: shutil.move()"
   ]
  },
  {
   "cell_type": "raw",
   "id": "6e95e074",
   "metadata": {},
   "source": [
    "3.What is the difference between the delete functions in the send2trash and shutil modules?\n",
    "Ans:Send2Trash is a small package that sends files to the Trash (or Recycle Bin) natively and on all platforms.\n",
    "    To install it type the below command in the terminal."
   ]
  },
  {
   "cell_type": "raw",
   "id": "e483bb7d",
   "metadata": {},
   "source": [
    "4.ZipFile objects have a close() method just like File objects’ close() method. What ZipFile method is\n",
    "equivalent to File objects’ open() method?\n",
    "Ans- The zipfile.Zipfile() function is equivalent to the open() function; the first argument is the filename\n",
    ",and the second argument is the mode to open the ZIP file in (read, write, or append)."
   ]
  },
  {
   "cell_type": "raw",
   "id": "d5cc922e",
   "metadata": {},
   "source": []
  }
 ],
 "metadata": {
  "kernelspec": {
   "display_name": "Python 3 (ipykernel)",
   "language": "python",
   "name": "python3"
  },
  "language_info": {
   "codemirror_mode": {
    "name": "ipython",
    "version": 3
   },
   "file_extension": ".py",
   "mimetype": "text/x-python",
   "name": "python",
   "nbconvert_exporter": "python",
   "pygments_lexer": "ipython3",
   "version": "3.9.12"
  }
 },
 "nbformat": 4,
 "nbformat_minor": 5
}
